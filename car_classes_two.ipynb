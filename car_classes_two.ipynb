{
  "nbformat": 4,
  "nbformat_minor": 0,
  "metadata": {
    "colab": {
      "provenance": [],
      "authorship_tag": "ABX9TyNsm74Cf2czXcefFCANGaVJ",
      "include_colab_link": true
    },
    "kernelspec": {
      "name": "python3",
      "display_name": "Python 3"
    },
    "language_info": {
      "name": "python"
    }
  },
  "cells": [
    {
      "cell_type": "markdown",
      "metadata": {
        "id": "view-in-github",
        "colab_type": "text"
      },
      "source": [
        "<a href=\"https://colab.research.google.com/github/VisionarySyntax/Colab/blob/main/car_classes_two.ipynb\" target=\"_parent\"><img src=\"https://colab.research.google.com/assets/colab-badge.svg\" alt=\"Open In Colab\"/></a>"
      ]
    },
    {
      "cell_type": "code",
      "execution_count": 26,
      "metadata": {
        "colab": {
          "base_uri": "https://localhost:8080/"
        },
        "id": "sSfIJnv6Enxi",
        "outputId": "4ba57af6-07ef-4a3f-dae6-9c520ce04414"
      },
      "outputs": [
        {
          "output_type": "stream",
          "name": "stdout",
          "text": [
            "Tesla Model S - 2022 has a battery size of 40 kWh\n",
            "Battery has been upgraded\n",
            "Tesla Model S - 2022 has a battery size of 65\n",
            "This car can go about 225 miles on a full charge.\n",
            "\n",
            "---------Break---------\n",
            "\n",
            "Audi A4 - 2019\n",
            "This car has 62,000 miles on it.\n",
            "This car has 70,000 miles on it.\n",
            "\n",
            "---------Break---------\n",
            "\n",
            "Nissan Leaf - 2019\n",
            "This car has a 40-kWh battery. \n",
            "This car can go about 150 miles on a full charge.\n"
          ]
        }
      ],
      "source": [
        "class Car:\n",
        "    # Attempt to represent a car\n",
        "\n",
        "    def __init__(self, make, model, year):\n",
        "        # Car attributes\n",
        "        self.make = make\n",
        "        self.model = model\n",
        "        self.year = year\n",
        "        self.odometer_reading = 0\n",
        "\n",
        "    def get_description(self):\n",
        "        # Return a description of the car\n",
        "        long_name = f\"{self.make} {self.model} - {self.year}\"\n",
        "        return long_name.title()\n",
        "\n",
        "    def read_odometer(self):\n",
        "        # Print a statement showing the cars milage\n",
        "        print(f\"This car has {self.odometer_reading:,} miles on it.\")\n",
        "\n",
        "    def update_odometer(self, mileage):\n",
        "        # Set odometer reading\n",
        "        if mileage >= self.odometer_reading:\n",
        "            self.odometer_reading = mileage\n",
        "        else:\n",
        "            print(\"You can't reverse the odometer reading.\")\n",
        "\n",
        "    def increment_odometer(self, miles):\n",
        "        # Increement the odormeter reading\n",
        "        self.odometer_reading += miles\n",
        "\n",
        "class Battery:\n",
        "  # Seperate class to handle battery size\n",
        "  def __init__(self, battery_size):\n",
        "    self.battery_size = battery_size\n",
        "\n",
        "  def describe_battery(self):\n",
        "    # description of battery\n",
        "    print(f\"This car has a {self.battery_size}-kWh battery. \")\n",
        "\n",
        "  def get_range(self):\n",
        "    # Calculate range based on battery size\n",
        "    if self.battery_size == 40:\n",
        "      range = 150\n",
        "    elif self.battery_size == 65:\n",
        "      range = 225\n",
        "\n",
        "    print(f\"This car can go about {range} miles on a full charge.\")\n",
        "\n",
        "  def battery_upgrade(self):\n",
        "    if self.battery_size == 40:\n",
        "      self.battery_size = 65\n",
        "      print(\"Battery has been upgraded\")\n",
        "    elif self.battery_size == 65:\n",
        "      print(\"Battery is already upgraded\")\n",
        "\n",
        "class ElectricCar(Car):\n",
        "  # Specific requirements for an electric car\n",
        "\n",
        "  def __init__(self, make, model, year, battery_size):\n",
        "    # Initialise parent class\n",
        "    super().__init__(make, model, year)\n",
        "    self.battery = Battery(battery_size)\n",
        "\n",
        "  def fill_gas_tank(self):\n",
        "    # Electric cars dont have gas tanks\n",
        "    print(\"This car doesnt need gas!\")\n",
        "\n",
        "# Additional class to add a new model, complete a battery upgrade, and review new range\n",
        "my_tesla = ElectricCar('tesla', 'model s', '2022', 40)\n",
        "print(f\"{my_tesla.get_description()} has a battery size of {my_tesla.battery.battery_size} kWh\")\n",
        "my_tesla.battery.battery_upgrade()\n",
        "print(f\"{my_tesla.get_description()} has a battery size of {my_tesla.battery.battery_size}\")\n",
        "my_tesla.battery.get_range()\n",
        "\n",
        "print(\"\\n---------Break---------\\n\")\n",
        "my_new_car = Car('audi', 'a4', '2019')\n",
        "my_new_car.update_odometer(62000)\n",
        "\n",
        "print(my_new_car.get_description())\n",
        "my_new_car.read_odometer()\n",
        "\n",
        "my_new_car.increment_odometer(8000)\n",
        "my_new_car.read_odometer()\n",
        "\n",
        "print(\"\\n---------Break---------\\n\")\n",
        "\n",
        "my_leaf = ElectricCar('nissan', 'leaf', '2019', 40)\n",
        "print(my_leaf.get_description())\n",
        "my_leaf.battery.describe_battery()\n",
        "my_leaf.battery.get_range()\n",
        "\n",
        "\n",
        "\n",
        "\n"
      ]
    },
    {
      "cell_type": "code",
      "source": [],
      "metadata": {
        "id": "neTcPAd8EvvB"
      },
      "execution_count": null,
      "outputs": []
    }
  ]
}