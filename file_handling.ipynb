{
  "nbformat": 4,
  "nbformat_minor": 0,
  "metadata": {
    "colab": {
      "provenance": [],
      "authorship_tag": "ABX9TyMDOxEAdzMWqovWgxCiLwJU",
      "include_colab_link": true
    },
    "kernelspec": {
      "name": "python3",
      "display_name": "Python 3"
    },
    "language_info": {
      "name": "python"
    }
  },
  "cells": [
    {
      "cell_type": "markdown",
      "metadata": {
        "id": "view-in-github",
        "colab_type": "text"
      },
      "source": [
        "<a href=\"https://colab.research.google.com/github/VisionarySyntax/Colab/blob/main/file_handling.ipynb\" target=\"_parent\"><img src=\"https://colab.research.google.com/assets/colab-badge.svg\" alt=\"Open In Colab\"/></a>"
      ]
    },
    {
      "cell_type": "code",
      "execution_count": null,
      "metadata": {
        "colab": {
          "base_uri": "https://localhost:8080/"
        },
        "id": "PP0idhLSGRWc",
        "outputId": "0ba87d06-107a-4b5f-c9d5-a9a2ef46ec9e"
      },
      "outputs": [
        {
          "output_type": "stream",
          "name": "stdout",
          "text": [
            "Line 0 - 3.1415926535\n",
            "Line 1 - 8979311599\n",
            "Line 2 - 7963468544\n"
          ]
        }
      ],
      "source": [
        "from pathlib import Path\n",
        "\n",
        "# Create a Path object pointing to the file 'pi_digits.txt'\n",
        "path = Path('pi_digits.txt')\n",
        "\n",
        "# Read the contents of the file and remove any trailing whitespace\n",
        "contents = path.read_text().rstrip()\n",
        "\n",
        "# Uncomment the line below to print the entire file contents for debugging\n",
        "# print(contents)\n",
        "\n",
        "# Split the contents into a list of lines (each line becomes an element in the list)\n",
        "lines = contents.splitlines()\n",
        "\n",
        "# Initialize a counter to keep track of line numbers\n",
        "count = 0\n",
        "\n",
        "# Iterate through each line in the list of lines\n",
        "for line in lines:\n",
        "    # Print the line number and its content\n",
        "    print(f\"Line {count} - {line}\")\n",
        "    # Increment the line counter for the next iteration\n",
        "    count += 1\n"
      ]
    },
    {
      "cell_type": "code",
      "source": [
        "from pathlib import Path\n",
        "\n",
        "# Create a Path object pointing to the file 'pi_digits.txt'\n",
        "path = Path('pi_digits.txt')\n",
        "\n",
        "# Read the entire contents of the file into a string\n",
        "contents = path.read_text()\n",
        "\n",
        "# Split the contents into a list of lines (each line becomes an element in the list)\n",
        "lines = contents.splitlines()\n",
        "\n",
        "# Initialize an empty string to store the continuous digits of pi\n",
        "pi_string = ''\n",
        "\n",
        "# Iterate through each line in the list of lines\n",
        "for line in lines:\n",
        "    # Remove leading whitespace from each line and concatenate it to pi_string\n",
        "    pi_string += line.lstrip()\n",
        "\n",
        "# Print the reconstructed pi string (without any newlines or leading spaces)\n",
        "print(pi_string)\n",
        "\n",
        "# Print the length of the reconstructed pi string\n",
        "print(len(pi_string))\n"
      ],
      "metadata": {
        "colab": {
          "base_uri": "https://localhost:8080/"
        },
        "id": "HQyaS_SgJBL_",
        "outputId": "6807388d-cb1e-496a-85b5-fcc3c7a73b45"
      },
      "execution_count": null,
      "outputs": [
        {
          "output_type": "stream",
          "name": "stdout",
          "text": [
            "3.141592653589793115997963468544\n",
            "32\n"
          ]
        }
      ]
    },
    {
      "cell_type": "code",
      "source": [
        "# Division calculator\n",
        "\n",
        "print(\"Give me two numbers and I'll divide them.\")\n",
        "print(\"press 'q' to quit\")\n",
        "\n",
        "while True:\n",
        "  first_number = input(\"\\nEnter First Number:\")\n",
        "  if first_number == 'q':\n",
        "    break\n",
        "  second_number = input(\"\\nEnter Second Number:\")\n",
        "  if second_number == 'q':\n",
        "    break\n",
        "\n",
        "  try:\n",
        "    answer  = int(first_number) / int(second_number)\n",
        "  except ZeroDivisionError:\n",
        "    print(\"You can't divide by zero!\")\n",
        "  else:\n",
        "    print(answer)\n",
        "\n"
      ],
      "metadata": {
        "colab": {
          "base_uri": "https://localhost:8080/"
        },
        "id": "SeZ-RK2zKW0B",
        "outputId": "285d0358-7b38-49ee-f323-6c31303a43d7"
      },
      "execution_count": null,
      "outputs": [
        {
          "name": "stdout",
          "output_type": "stream",
          "text": [
            "Give me two numbers and I'll divide them.\n",
            "press 'q' to quit\n",
            "\n",
            "Enter First Number:5\n",
            "\n",
            "Enter Second Number:0\n",
            "You can't divide by zero!\n",
            "\n",
            "Enter First Number:5\n",
            "\n",
            "Enter Second Number:2\n",
            "2.5\n",
            "\n",
            "Enter First Number:q\n"
          ]
        }
      ]
    },
    {
      "cell_type": "code",
      "source": [],
      "metadata": {
        "id": "-FVEe6qpKugb"
      },
      "execution_count": null,
      "outputs": []
    }
  ]
}