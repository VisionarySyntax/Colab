{
  "nbformat": 4,
  "nbformat_minor": 0,
  "metadata": {
    "colab": {
      "provenance": [],
      "authorship_tag": "ABX9TyMIeaK0knKxlMq2D32LN30W",
      "include_colab_link": true
    },
    "kernelspec": {
      "name": "python3",
      "display_name": "Python 3"
    },
    "language_info": {
      "name": "python"
    }
  },
  "cells": [
    {
      "cell_type": "markdown",
      "metadata": {
        "id": "view-in-github",
        "colab_type": "text"
      },
      "source": [
        "<a href=\"https://colab.research.google.com/github/VisionarySyntax/Colab/blob/main/Classes_Lesson.ipynb\" target=\"_parent\"><img src=\"https://colab.research.google.com/assets/colab-badge.svg\" alt=\"Open In Colab\"/></a>"
      ]
    },
    {
      "cell_type": "code",
      "execution_count": null,
      "metadata": {
        "id": "lZccjjNfmGUt",
        "colab": {
          "base_uri": "https://localhost:8080/"
        },
        "outputId": "03a00eb9-49ce-4922-a25a-ea2a6632e632"
      },
      "outputs": [
        {
          "output_type": "stream",
          "name": "stdout",
          "text": [
            "My dog's name is Willow.\n",
            "My dog's age is 6 years old.\n",
            "Willow is now sitting\n",
            "Willow rolled over\n"
          ]
        }
      ],
      "source": [
        "import random\n",
        "\n",
        "class Dog:\n",
        "  # Simple dog model\n",
        "\n",
        "  def __init__(self, name, age):\n",
        "    # Initialise name and age attibutes\n",
        "    self.name = name\n",
        "    self.age = age\n",
        "\n",
        "  def sit(self):\n",
        "    # Simulate dog sitting\n",
        "    print(f\"{self.name} is now sitting\")\n",
        "\n",
        "  def roll_over(self):\n",
        "    # Simulate roll over\n",
        "    print(f\"{self.name} rolled over\")\n",
        "\n",
        "# my_dog = Dog('Willow', 6)\n",
        "\n",
        "print(f\"My dog's name is {my_dog.name}.\")\n",
        "print(f\"My dog's age is {my_dog.age} years old.\")\n",
        "\n",
        "my_dog.sit()\n",
        "my_dog.roll_over()\n",
        "\n",
        "\n",
        "\n"
      ]
    },
    {
      "cell_type": "code",
      "source": [
        "import random\n",
        "\n",
        "# Initialise dog list\n",
        "dog_list = []\n",
        "\n",
        "# Function to add dogs via user input\n",
        "def add_dogs():\n",
        "  while True:\n",
        "    name = input(\"Enter the dogs name, or type 'stop' to finish\").strip()\n",
        "    if name.lower() == 'stop':\n",
        "      break\n",
        "\n",
        "    try:\n",
        "      age = int(input(f\"Enter {name}'s age: \").strip())\n",
        "    except ValueError:\n",
        "      print(\"Invalid age.  Please enter a number\")\n",
        "\n",
        "    # Create a new dog instance and append to the list\n",
        "    dog_list.append(Dog(name, age))\n",
        "    print(f\"Added {name}, aged {age}, to the dog list.\")\n",
        "\n",
        "def random_action(dog):\n",
        "  actions = [dog.sit, dog.roll_over]\n",
        "  selected_action = random.choice(actions)\n",
        "  return selected_action()\n",
        "\n",
        "# Call function\n",
        "add_dogs()\n",
        "\n",
        "print(\"\\fFinal Dog List:\")\n",
        "for dog in dog_list:\n",
        "  print(f\"{dog.name} is {dog.age} years old and {random_action(dog)}\")\n",
        "\n",
        "\n",
        "\n",
        "\n",
        "\n",
        "\n",
        "\n"
      ],
      "metadata": {
        "colab": {
          "base_uri": "https://localhost:8080/"
        },
        "id": "8WgUFWQMP8z4",
        "outputId": "cb8c5293-d786-432f-cb04-3cddd78093b1"
      },
      "execution_count": null,
      "outputs": [
        {
          "output_type": "stream",
          "name": "stdout",
          "text": [
            "Enter the dogs name, or type 'stop' to finishSeth\n",
            "Enter Seth's age: 10\n",
            "Added Seth, aged 10, to the dog list.\n",
            "Enter the dogs name, or type 'stop' to finishAmos\n",
            "Enter Amos's age: 9\n",
            "Added Amos, aged 9, to the dog list.\n",
            "Enter the dogs name, or type 'stop' to finishstop\n",
            "\fFinal Dog List:\n",
            "Seth rolled over\n",
            "Seth is 10 years old and None\n",
            "Amos is now sitting\n",
            "Amos is 9 years old and None\n"
          ]
        }
      ]
    },
    {
      "cell_type": "code",
      "source": [
        "\"\""
      ],
      "metadata": {
        "id": "ljfyDrUFSAp4"
      },
      "execution_count": null,
      "outputs": []
    }
  ]
}